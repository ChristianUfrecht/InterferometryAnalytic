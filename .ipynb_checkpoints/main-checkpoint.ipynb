{
 "cells": [
  {
   "cell_type": "code",
   "execution_count": 1,
   "id": "c55b109a",
   "metadata": {},
   "outputs": [
    {
     "ename": "SyntaxError",
     "evalue": "invalid syntax (<ipython-input-1-1b9d3afea790>, line 15)",
     "output_type": "error",
     "traceback": [
      "\u001b[1;36m  File \u001b[1;32m\"<ipython-input-1-1b9d3afea790>\"\u001b[1;36m, line \u001b[1;32m15\u001b[0m\n\u001b[1;33m    def\u001b[0m\n\u001b[1;37m       ^\u001b[0m\n\u001b[1;31mSyntaxError\u001b[0m\u001b[1;31m:\u001b[0m invalid syntax\n"
     ]
    }
   ],
   "source": [
    "# jupyter notebook with an example for an interferometer calculation\n",
    "from IPython.display import display\n",
    "import sympy as sy\n",
    "from sympy import I\n",
    "\n",
    "from Utilities import OpEx\n",
    "\n",
    "\n",
    "\n",
    "\n",
    "m1,m2,g1,g2=sy.symbols(\"m1,m2,g1,g2\")\n",
    "\n",
    "\n",
    "class Hamiltonian(OpEx):\n",
    "    def __init__(self, param):\n",
    "        super().__init__(self, param)\n",
    "\n",
    "\n",
    "\n",
    "class Pulse():\n",
    "    def __init__(self, wave_vector):\n",
    "        hbar=sy.symbols('hbar')\n",
    "        self.k=wave_vector\n",
    "        self.H=OpEx([0,0,0,-hbar*k,0])\n",
    "        self.t=1 # gives exp(k*z) in time-evolution operator\n",
    "        \n",
    "class U():\n",
    "    def __init__(Hamiltonian, time):\n",
    "        '''Hamiltonian: Operator Expression with real! parameters'''\n",
    "        self.H=Hamiltonian\n",
    "        self.time=time\n",
    "        \n",
    "        \n",
    "class Interferometer():\n",
    "    def __init__(UpperSequence, LowerSequence):\n",
    "        '''UpperSequence, LowerSequence: List of Pulse and U objects denoting the sequence\n",
    "           ordering: In the correct way the time evolution operators are writen down for the full time evolution'''\n",
    "        self.Up=UpperSequence\n",
    "        self.Low=LowerSequence\n",
    "        \n",
    "    def phase():\n",
    "        lower=\n",
    "        \n",
    "\n",
    "        \n",
    "        \n",
    "        \n",
    "O1=OpEx([1/(2*m1),1,1,m1*g1,1])\n",
    "\n",
    "O2=OpEx([1/(2*m2),2,2,m2*g2,2])\n",
    "\n",
    "\n",
    "\n",
    "\n",
    "\n",
    "\n",
    "\n",
    "\n"
   ]
  },
  {
   "cell_type": "code",
   "execution_count": null,
   "id": "803c1d09",
   "metadata": {},
   "outputs": [],
   "source": [
    "\n",
    "\n"
   ]
  }
 ],
 "metadata": {
  "kernelspec": {
   "display_name": "Python 3",
   "language": "python",
   "name": "python3"
  },
  "language_info": {
   "codemirror_mode": {
    "name": "ipython",
    "version": 3
   },
   "file_extension": ".py",
   "mimetype": "text/x-python",
   "name": "python",
   "nbconvert_exporter": "python",
   "pygments_lexer": "ipython3",
   "version": "3.8.8"
  }
 },
 "nbformat": 4,
 "nbformat_minor": 5
}
