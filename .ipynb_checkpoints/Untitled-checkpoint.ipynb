{
 "cells": [
  {
   "cell_type": "code",
   "execution_count": 32,
   "id": "c55b109a",
   "metadata": {},
   "outputs": [
    {
     "data": {
      "text/latex": [
       "$\\displaystyle \\frac{\\hat{p}^{2}}{2 m} + \\hat{x} g m$"
      ],
      "text/plain": [
       "\\hat{p}**2/(2*m) + \\hat{x}*g*m"
      ]
     },
     "metadata": {},
     "output_type": "display_data"
    }
   ],
   "source": [
    "# jupyter notebook with an example for an interferometer calculation\n",
    "from IPython.display import display\n",
    "import sympy as sy\n",
    "hbar=sy.symbols('hbar')\n",
    "from sympy import I\n",
    "\n",
    "m,g=sy.symbols(\"m,g\")\n",
    "\n",
    "\n",
    "\n",
    "class Hamiltonian():\n",
    "    def __init__(self, param):\n",
    "        if not len(param)==5:\n",
    "            raise ValueError('length of parameter list must be 5')\n",
    "        self.a=param[0]\n",
    "        self.b=param[1]\n",
    "        self.c=param[2]\n",
    "        self.d=param[3]\n",
    "        self.e=param[4]\n",
    "    def print(self):\n",
    "        p=sy.symbols('\\hat{p}')\n",
    "        px_xp=sy.symbols('(\\hat{p}\\hat{x}+\\hat{x}\\hat{p})')\n",
    "        x=sy.symbols('\\hat{x}')\n",
    "        display(self.a*p**2+self.b*p+self.c*px_xp+self.d*x+self.e)\n",
    "\n",
    "\n",
    "\n",
    "        \n",
    "        \n",
    "        \n",
    "H=Hamiltonian([1/(2*m),0,0,m*g,0])\n",
    "\n",
    "H.print()\n",
    "\n",
    "\n",
    "\n",
    "def commutator(H1, H2):\n",
    "    a1=param1[0]\n",
    "    b1=param1[1]\n",
    "    c1=param1[2]\n",
    "    d1=param1[3]\n",
    "    e1=param1[4]\n",
    "    \n",
    "    a2=param2[0]\n",
    "    b2=param2[1]\n",
    "    c2=param2[2]\n",
    "    d2=param2[3]\n",
    "    e2=param2[4]\n",
    "    \n",
    "    aI=-2*I*hbar*(a1*c2-c1*a2)\n",
    "\n",
    "\n",
    "\n",
    "\n"
   ]
  }
 ],
 "metadata": {
  "kernelspec": {
   "display_name": "Python 3",
   "language": "python",
   "name": "python3"
  },
  "language_info": {
   "codemirror_mode": {
    "name": "ipython",
    "version": 3
   },
   "file_extension": ".py",
   "mimetype": "text/x-python",
   "name": "python",
   "nbconvert_exporter": "python",
   "pygments_lexer": "ipython3",
   "version": "3.8.8"
  }
 },
 "nbformat": 4,
 "nbformat_minor": 5
}
