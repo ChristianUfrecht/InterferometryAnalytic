{
 "cells": [
  {
   "cell_type": "code",
   "execution_count": 1,
   "id": "c55b109a",
   "metadata": {},
   "outputs": [],
   "source": [
    "# jupyter notebook with an example for an interferometer calculation\n",
    "\n",
    "import sympy as sy\n",
    "from sympy import I\n",
    "\n",
    "from Interferometry import Interferometer, Hamiltonian, Pulse, U\n",
    "\n",
    "# define symbolic variables\n",
    "m1,m2,g1,g2,k,T,m,g=sy.symbols(\"m1,m2,g1,g2,k,T,m,g\")\n",
    "\n",
    "\n"
   ]
  },
  {
   "cell_type": "markdown",
   "id": "6bc898ec",
   "metadata": {},
   "source": [
    "\n",
    "\n",
    "Define Hamiltonians by passing a parameter list [a,b,c,d,e]\n",
    " corresponding to the Hamiltonian\n",
    " H=a*p^2 + b*p +c*(px+xp) + d*x + e\n",
    " \n",
    " "
   ]
  },
  {
   "cell_type": "code",
   "execution_count": 2,
   "id": "4bd16e9f",
   "metadata": {},
   "outputs": [
    {
     "name": "stdout",
     "output_type": "stream",
     "text": [
      "Hamiltonian is:\n"
     ]
    },
    {
     "data": {
      "text/latex": [
       "$\\displaystyle \\frac{\\hat{p}^{2}}{2 m} + \\hat{x} g m$"
      ],
      "text/plain": [
       "\\hat{p}**2/(2*m) + \\hat{x}*g*m"
      ]
     },
     "metadata": {},
     "output_type": "display_data"
    },
    {
     "name": "stdout",
     "output_type": "stream",
     "text": [
      "\n"
     ]
    }
   ],
   "source": [
    "H=Hamiltonian([1/(2*m), 0,0,m*g,0])\n",
    "\n",
    "print('Hamiltonian is:')         \n",
    "print(H)\n"
   ]
  },
  {
   "cell_type": "markdown",
   "id": "95e1618c",
   "metadata": {},
   "source": [
    "Define upper and lower sequence (note the ordering of operators is the same as if acting on a initial ket state)"
   ]
  },
  {
   "cell_type": "code",
   "execution_count": 3,
   "id": "a4c2d5f8",
   "metadata": {},
   "outputs": [
    {
     "name": "stdout",
     "output_type": "stream",
     "text": [
      "implements:\n"
     ]
    },
    {
     "data": {
      "text/latex": [
       "$\\displaystyle e^{- i \\hat{x} k}$"
      ],
      "text/plain": [
       "exp(-I*\\hat{x}*k)"
      ]
     },
     "metadata": {},
     "output_type": "display_data"
    },
    {
     "name": "stdout",
     "output_type": "stream",
     "text": [
      "\n"
     ]
    }
   ],
   "source": [
    "\n",
    "upperSequence=[U(H,T),  Pulse(-k), U(H,T), Pulse(k)] \n",
    "lowerSequence=[Pulse(-k),  U(H,T),  Pulse(k), U(H,T)]\n",
    "\n",
    "print(Pulse(-k))\n"
   ]
  },
  {
   "cell_type": "markdown",
   "id": "4d2c4eb2",
   "metadata": {},
   "source": [
    "initialize an interferometer object with the upper and lower sequence"
   ]
  },
  {
   "cell_type": "code",
   "execution_count": 6,
   "id": "c043fdc1",
   "metadata": {},
   "outputs": [
    {
     "data": {
      "text/latex": [
       "$\\displaystyle - i T^{2} g k$"
      ],
      "text/plain": [
       "-I*T**2*g*k"
      ]
     },
     "metadata": {},
     "output_type": "display_data"
    },
    {
     "data": {
      "text/plain": []
     },
     "execution_count": 6,
     "metadata": {},
     "output_type": "execute_result"
    }
   ],
   "source": [
    "\n",
    "I=Interferometer(upperSequence, lowerSequence)\n",
    "\n",
    "#calculate phase\n",
    "_,res=I.phase()\n",
    "\n",
    "res\n"
   ]
  }
 ],
 "metadata": {
  "kernelspec": {
   "display_name": "Python 3",
   "language": "python",
   "name": "python3"
  },
  "language_info": {
   "codemirror_mode": {
    "name": "ipython",
    "version": 3
   },
   "file_extension": ".py",
   "mimetype": "text/x-python",
   "name": "python",
   "nbconvert_exporter": "python",
   "pygments_lexer": "ipython3",
   "version": "3.8.8"
  }
 },
 "nbformat": 4,
 "nbformat_minor": 5
}
